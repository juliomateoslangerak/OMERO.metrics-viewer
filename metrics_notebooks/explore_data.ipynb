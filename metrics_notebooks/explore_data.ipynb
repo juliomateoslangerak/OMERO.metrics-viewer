{
 "cells": [
  {
   "cell_type": "markdown",
   "metadata": {
    "pycharm": {
     "name": "#%% md\n"
    }
   },
   "source": [
    "Preparing necessary imports"
   ]
  },
  {
   "cell_type": "code",
   "execution_count": null,
   "metadata": {
    "jupyter": {
     "source_hidden": true
    },
    "pycharm": {
     "name": "#%%\n",
     "is_executing": true
    }
   },
   "outputs": [],
   "source": [
    "import ipywidgets as widgets\n",
    "from IPython.display import display\n",
    "from getpass import getpass\n",
    "import omero.gateway as gw\n",
    "import omero\n",
    "\n",
    "from plots import *\n",
    "from utils import *\n",
    "\n",
    "try:\n",
    "    from credentials import *\n",
    "except ModuleNotFoundError:\n",
    "    HOST = input('host:')\n",
    "    PORT = 4064\n",
    "    USER = input('user:')\n",
    "    PASSWORD = getpass('password')\n",
    "    GROUP = input('group:')"
   ]
  },
  {
   "cell_type": "markdown",
   "metadata": {
    "pycharm": {
     "name": "#%% md\n"
    }
   },
   "source": [
    "### Defining display functions and a tag_to_function mapping"
   ]
  },
  {
   "cell_type": "code",
   "execution_count": null,
   "metadata": {
    "jupyter": {
     "source_hidden": true
    },
    "pycharm": {
     "name": "#%%\n",
     "is_executing": true
    }
   },
   "outputs": [],
   "source": [
    "def print_map_ann(image):\n",
    "    print(f'Measurements for image id: {image.getId()}\\n{image.getName()}')\n",
    "    for ann in image.listAnnotations():\n",
    "        if ann.OMERO_TYPE == omero.model.MapAnnotationI and \\\n",
    "            ann.getNs().startswith('metrics'):\n",
    "            print('Key\\tvalue')\n",
    "            for m in ann.getValue():\n",
    "                print(f'{m[0]}\\t{m[1]}')\n",
    "\n",
    "def display_argoSIM_E(images):\n",
    "    for image in images:\n",
    "        print_map_ann(image)\n",
    "        print('Some profiles should go in here')\n",
    "\n",
    "def display_argoSIM_B(images):\n",
    "    for image in images:\n",
    "        print_map_ann(image)\n",
    "        plot_homogeneity_map(image)\n",
    "        plot_distances_map(image)\n",
    "        plot_distances_map_bokeh(image)\n",
    "\n",
    "def display_psfs(images):\n",
    "    for image in images:\n",
    "        plot_psfs(image)\n",
    "\n",
    "\n",
    "\n",
    "tag_to_function = {'Argo-SIM_E_90deg': display_argoSIM_E,\n",
    "                   'Argo-SIM_E_0deg': display_argoSIM_E,\n",
    "                   'Argo-SIM_B': display_argoSIM_B,\n",
    "                   'PSF beads': display_psfs}"
   ]
  },
  {
   "cell_type": "markdown",
   "metadata": {
    "pycharm": {
     "name": "#%% md\n"
    }
   },
   "source": [
    "### Open connection"
   ]
  },
  {
   "cell_type": "code",
   "execution_count": null,
   "metadata": {
    "jupyter": {
     "source_hidden": true
    },
    "pycharm": {
     "name": "#%%\n",
     "is_executing": true
    }
   },
   "outputs": [],
   "source": [
    "conn = gw.BlitzGateway(username=USER,\n",
    "                       passwd=PASSWORD,\n",
    "                       host=HOST,\n",
    "                       group=GROUP,\n",
    "                       port=PORT)\n",
    "\n",
    "# conn = gw.BlitzGateway(username=input('OMERO username:'), password=getpass('OMERO password:'),\n",
    "#                        group=GROUP, host=OMERO_SERVER, port=PORT, secure=True)\n",
    "\n",
    "conn.connect()\n",
    "print(f'Connection successful: {conn.isConnected()}')"
   ]
  },
  {
   "cell_type": "markdown",
   "metadata": {
    "pycharm": {
     "name": "#%% md\n"
    }
   },
   "source": [
    "### Selecting the Microscope"
   ]
  },
  {
   "cell_type": "code",
   "execution_count": null,
   "metadata": {
    "jupyter": {
     "source_hidden": true
    },
    "pycharm": {
     "name": "#%%\n",
     "is_executing": true
    }
   },
   "outputs": [],
   "source": [
    "microscopes = list(conn.getObjects('Project'))\n",
    "micr_menu = widgets.Dropdown(options=[(m.getName(), i) for i, m in enumerate(microscopes)],\n",
    "                     value=1,\n",
    "                     description='Select a microscope:',\n",
    "                     disabled=False,)\n",
    "display(micr_menu)"
   ]
  },
  {
   "cell_type": "markdown",
   "metadata": {
    "pycharm": {
     "name": "#%% md\n"
    }
   },
   "source": [
    "### Selecting the Dataset"
   ]
  },
  {
   "cell_type": "code",
   "execution_count": 6,
   "metadata": {
    "jupyter": {
     "source_hidden": true
    },
    "pycharm": {
     "name": "#%%\n"
    }
   },
   "outputs": [
    {
     "data": {
      "text/plain": "Dropdown(description='Select a dataset:', options=(('2017-02-20_yearly', 0), ('2017-03-20_monthly', 1), ('2017…",
      "application/vnd.jupyter.widget-view+json": {
       "version_major": 2,
       "version_minor": 0,
       "model_id": "4520fb46cf4649eb8997159aec56a265"
      }
     },
     "metadata": {},
     "output_type": "display_data"
    }
   ],
   "source": [
    "microscope = microscopes[micr_menu.value]\n",
    "\n",
    "datasets = list(microscope.listChildren())\n",
    "dataset_menu = widgets.Dropdown(options=[(d.getName(), i) for i, d in enumerate(datasets)],\n",
    "                     value=0,\n",
    "                     description='Select a dataset:',\n",
    "                     disabled=False,)\n",
    "display(dataset_menu)"
   ]
  },
  {
   "cell_type": "markdown",
   "metadata": {},
   "source": [
    "### Select the type of analysis to display"
   ]
  },
  {
   "cell_type": "code",
   "execution_count": null,
   "metadata": {
    "jupyter": {
     "source_hidden": true
    },
    "pycharm": {
     "name": "#%%\n",
     "is_executing": true
    }
   },
   "outputs": [],
   "source": [
    "dataset = datasets[dataset_menu.value]\n",
    "images = list(dataset.listChildren())\n",
    "\n",
    "# Get the relevant tags associated to the images in the dataset\n",
    "relevant_tags = ['Argo-SIM_B', 'AArgo-SIM_E_0deg', 'Argo-SIM_E_90deg', 'PSF beads']\n",
    "present_tags = []\n",
    "\n",
    "for image in images:\n",
    "    for ann in image.listAnnotations():\n",
    "        if ann.OMERO_TYPE == omero.model.TagAnnotationI and \\\n",
    "                ann.getTextValue() in relevant_tags and \\\n",
    "                ann.getTextValue() not in present_tags:\n",
    "            present_tags.append(ann.getTextValue())\n",
    "\n",
    "tags_menu = widgets.Dropdown(options=[tag for tag in present_tags],\n",
    "                             description='Select an analysis type:',\n",
    "                             value='PSF beads',\n",
    "                             disabled=False,)\n",
    "display(tags_menu)"
   ]
  },
  {
   "cell_type": "markdown",
   "metadata": {
    "pycharm": {
     "name": "#%% md\n"
    }
   },
   "source": [
    "### Run visualization"
   ]
  },
  {
   "cell_type": "code",
   "execution_count": null,
   "metadata": {
    "jupyter": {
     "source_hidden": true
    },
    "pycharm": {
     "name": "#%%\n",
     "is_executing": true
    }
   },
   "outputs": [],
   "source": [
    "images_to_display = []\n",
    "\n",
    "for image in images:\n",
    "    for ann in image.listAnnotations():\n",
    "        if ann.OMERO_TYPE == omero.model.TagAnnotationI and \\\n",
    "                ann.getTextValue() == tags_menu.value:\n",
    "            images_to_display.append(image)\n",
    "\n",
    "# table = plot_homogeneity_map(images_to_display[0])\n",
    "tag_to_function[tags_menu.value](images_to_display)\n"
   ]
  },
  {
   "cell_type": "code",
   "execution_count": null,
   "metadata": {
    "jupyter": {
     "source_hidden": true
    }
   },
   "outputs": [],
   "source": []
  },
  {
   "cell_type": "code",
   "execution_count": null,
   "metadata": {
    "jupyter": {
     "source_hidden": true
    }
   },
   "outputs": [],
   "source": []
  }
 ],
 "metadata": {
  "kernelspec": {
   "display_name": "Python 3",
   "language": "python",
   "name": "python3"
  },
  "language_info": {
   "codemirror_mode": {
    "name": "ipython",
    "version": 3
   },
   "file_extension": ".py",
   "mimetype": "text/x-python",
   "name": "python",
   "nbconvert_exporter": "python",
   "pygments_lexer": "ipython3",
   "version": "3.7.6"
  }
 },
 "nbformat": 4,
 "nbformat_minor": 4
}