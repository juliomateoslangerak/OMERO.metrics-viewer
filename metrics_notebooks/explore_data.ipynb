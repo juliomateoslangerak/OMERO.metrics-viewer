{
 "cells": [
  {
   "cell_type": "markdown",
   "metadata": {
    "pycharm": {
     "name": "#%% md\n"
    }
   },
   "source": [
    "Preparing necessary imports"
   ]
  },
  {
   "cell_type": "code",
   "execution_count": 10,
   "metadata": {
    "jupyter": {
     "source_hidden": true
    },
    "pycharm": {
     "is_executing": true,
     "name": "#%%\n"
    }
   },
   "outputs": [],
   "source": [
    "from ipywidgets import widgets, interact, fixed\n",
    "from IPython.display import display\n",
    "from getpass import getpass\n",
    "import omero.gateway as gw\n",
    "import omero\n",
    "\n",
    "from plots import plot_homogeneity_map, plot_distances_map, plot_psfs, plot_distances_map_bokeh\n",
    "from utils import get_tables\n",
    "\n",
    "try:\n",
    "    from credentials import *\n",
    "except ModuleNotFoundError:\n",
    "    HOST = input('host:')\n",
    "    PORT = 4064\n",
    "    USER = input('user:')\n",
    "    PASSWORD = getpass('password')\n",
    "    GROUP = input('group:')"
   ]
  },
  {
   "cell_type": "markdown",
   "metadata": {
    "pycharm": {
     "name": "#%% md\n"
    }
   },
   "source": [
    "### Defining display functions and a tag_to_function mapping"
   ]
  },
  {
   "cell_type": "code",
   "execution_count": 11,
   "metadata": {
    "jupyter": {
     "source_hidden": true
    },
    "pycharm": {
     "is_executing": true,
     "name": "#%%\n"
    }
   },
   "outputs": [],
   "source": [
    "def print_map_ann(image):\n",
    "    print(f'Measurements for image id: {image.getId()}\\n{image.getName()}')\n",
    "    for ann in image.listAnnotations():\n",
    "        if ann.OMERO_TYPE == omero.model.MapAnnotationI and \\\n",
    "            ann.getNs().startswith('metrics'):\n",
    "            print('Key\\tvalue')\n",
    "            for m in ann.getValue():\n",
    "                print(f'{m[0]}\\t{m[1]}')\n",
    "\n",
    "def display_argoSIM_E(image):\n",
    "    print_map_ann(image)\n",
    "    print('Some profiles should go in here')\n",
    "\n",
    "def display_argoSIM_B(image):\n",
    "    print_map_ann(image)\n",
    "    plot_homogeneity_map(image)\n",
    "    plot_distances_map(image)\n",
    "    plot_distances_map_bokeh(image)\n",
    "\n",
    "def display_psfs(image):\n",
    "    properties_tables = get_tables(image, namespace_start='metrics', name_filter='properties')\n",
    "    if len(properties_tables) != 1:\n",
    "        raise Exception('There are none or more than one distances tables. Verify data integrity.')\n",
    "    properties_table = properties_tables[0]\n",
    "    bead_count = properties_table.getNumberOfRows()\n",
    "    print(f'There are {bead_count} beads associated with image {image.getName()}. Choose which bead bead you want to see, 0 for none or all.')\n",
    "    options = [0]\n",
    "    options.extend([b+1 for b in range(bead_count)])\n",
    "    options.append('all')\n",
    "    interact(plot_psfs, image=fixed(image), bead_nr=options)\n",
    "\n",
    "\n",
    "tag_to_function = {'Argo-SIM_E_90deg': display_argoSIM_E,\n",
    "                   'Argo-SIM_E_0deg': display_argoSIM_E,\n",
    "                   'Argo-SIM_B': display_argoSIM_B,\n",
    "                   'PSF beads': display_psfs}"
   ]
  },
  {
   "cell_type": "markdown",
   "metadata": {
    "pycharm": {
     "name": "#%% md\n"
    }
   },
   "source": [
    "### Open connection"
   ]
  },
  {
   "cell_type": "code",
   "execution_count": 12,
   "metadata": {
    "jupyter": {
     "source_hidden": true
    },
    "pycharm": {
     "is_executing": true,
     "name": "#%%\n"
    }
   },
   "outputs": [
    {
     "name": "stdout",
     "output_type": "stream",
     "text": [
      "Connection successful: True\n"
     ]
    }
   ],
   "source": [
    "conn = gw.BlitzGateway(username=USER,\n",
    "                       passwd=PASSWORD,\n",
    "                       host=HOST,\n",
    "                       group=GROUP,\n",
    "                       port=PORT)\n",
    "\n",
    "# conn = gw.BlitzGateway(username=input('OMERO username:'), password=getpass('OMERO password:'),\n",
    "#                        group=GROUP, host=OMERO_SERVER, port=PORT, secure=True)\n",
    "\n",
    "conn.connect()\n",
    "print(f'Connection successful: {conn.isConnected()}')"
   ]
  },
  {
   "cell_type": "markdown",
   "metadata": {
    "pycharm": {
     "name": "#%% md\n"
    }
   },
   "source": [
    "### Selecting the Microscope"
   ]
  },
  {
   "cell_type": "code",
   "execution_count": 13,
   "metadata": {
    "jupyter": {
     "source_hidden": true
    },
    "pycharm": {
     "is_executing": true,
     "name": "#%%\n"
    }
   },
   "outputs": [
    {
     "data": {
      "application/vnd.jupyter.widget-view+json": {
       "model_id": "176c022123c14e359cbd63f4d319d8f9",
       "version_major": 2,
       "version_minor": 0
      },
      "text/plain": [
       "Dropdown(description='Select a microscope:', index=1, options=(('microscope_2', 0), ('microscope_1', 1)), valu…"
      ]
     },
     "metadata": {},
     "output_type": "display_data"
    }
   ],
   "source": [
    "microscopes = list(conn.getObjects('Project'))\n",
    "micr_menu = widgets.Dropdown(options=[(m.getName(), i) for i, m in enumerate(microscopes)],\n",
    "                     value=1,\n",
    "                     description='Select a microscope:',\n",
    "                     disabled=False,)\n",
    "display(micr_menu)"
   ]
  },
  {
   "cell_type": "markdown",
   "metadata": {
    "pycharm": {
     "name": "#%% md\n"
    }
   },
   "source": [
    "### Selecting the Dataset"
   ]
  },
  {
   "cell_type": "code",
   "execution_count": 14,
   "metadata": {
    "jupyter": {
     "source_hidden": true
    },
    "pycharm": {
     "name": "#%%\n"
    }
   },
   "outputs": [
    {
     "data": {
      "application/vnd.jupyter.widget-view+json": {
       "model_id": "c2d14a9e8fea476ab87ab1c5ff454c6b",
       "version_major": 2,
       "version_minor": 0
      },
      "text/plain": [
       "Dropdown(description='Select a dataset:', options=(('2017-02-20_yearly', 0), ('2017-03-20_monthly', 1), ('2017…"
      ]
     },
     "metadata": {},
     "output_type": "display_data"
    }
   ],
   "source": [
    "microscope = microscopes[micr_menu.value]\n",
    "\n",
    "datasets = list(microscope.listChildren())\n",
    "dataset_menu = widgets.Dropdown(options=[(d.getName(), i) for i, d in enumerate(datasets)],\n",
    "                     value=0,\n",
    "                     description='Select a dataset:',\n",
    "                     disabled=False,)\n",
    "display(dataset_menu)"
   ]
  },
  {
   "cell_type": "markdown",
   "metadata": {},
   "source": [
    "### Select the type of analysis to display"
   ]
  },
  {
   "cell_type": "code",
   "execution_count": 15,
   "metadata": {
    "jupyter": {
     "source_hidden": true
    },
    "pycharm": {
     "is_executing": true,
     "name": "#%%\n"
    }
   },
   "outputs": [
    {
     "data": {
      "application/vnd.jupyter.widget-view+json": {
       "model_id": "c6a8df2ef1f44af8837a3b9a165c461b",
       "version_major": 2,
       "version_minor": 0
      },
      "text/plain": [
       "Dropdown(description='Select an analysis type:', index=2, options=('Argo-SIM_E_90deg', 'Argo-SIM_B', 'PSF bead…"
      ]
     },
     "metadata": {},
     "output_type": "display_data"
    }
   ],
   "source": [
    "dataset = datasets[dataset_menu.value]\n",
    "images = list(dataset.listChildren())\n",
    "\n",
    "# Get the relevant tags associated to the images in the dataset\n",
    "relevant_tags = ['Argo-SIM_B', 'AArgo-SIM_E_0deg', 'Argo-SIM_E_90deg', 'PSF beads']\n",
    "present_tags = []\n",
    "\n",
    "for image in images:\n",
    "    for ann in image.listAnnotations():\n",
    "        if ann.OMERO_TYPE == omero.model.TagAnnotationI and \\\n",
    "                ann.getTextValue() in relevant_tags and \\\n",
    "                ann.getTextValue() not in present_tags:\n",
    "            present_tags.append(ann.getTextValue())\n",
    "\n",
    "tags_menu = widgets.Dropdown(options=[tag for tag in present_tags],\n",
    "                             description='Select an analysis type:',\n",
    "                             value='PSF beads',\n",
    "                             disabled=False,)\n",
    "display(tags_menu)"
   ]
  },
  {
   "cell_type": "markdown",
   "metadata": {
    "pycharm": {
     "name": "#%% md\n"
    }
   },
   "source": [
    "### Run visualization\n",
    "Select an image to visualize"
   ]
  },
  {
   "cell_type": "code",
   "execution_count": 17,
   "metadata": {
    "jupyter": {
     "source_hidden": true
    },
    "pycharm": {
     "is_executing": true,
     "name": "#%%\n"
    }
   },
   "outputs": [
    {
     "data": {
      "application/vnd.jupyter.widget-view+json": {
       "model_id": "bf97238c155349acb7b9ac10dc6640a1",
       "version_major": 2,
       "version_minor": 0
      },
      "text/plain": [
       "interactive(children=(Dropdown(description='image', options=(('201702_RI510_Argolight-1-1_004_SIR_ALX_THR.ome.…"
      ]
     },
     "metadata": {},
     "output_type": "display_data"
    },
    {
     "data": {
      "text/plain": [
       "<function __main__.display_argoSIM_E(image)>"
      ]
     },
     "execution_count": 17,
     "metadata": {},
     "output_type": "execute_result"
    }
   ],
   "source": [
    "images_to_visualize = list()\n",
    "for image in images:\n",
    "    for ann in image.listAnnotations():\n",
    "        if ann.OMERO_TYPE == omero.model.TagAnnotationI and \\\n",
    "                ann.getTextValue() == tags_menu.value:\n",
    "            images_to_visualize.append(image)\n",
    "\n",
    "image_names = [(i.getName(), i) for i in images_to_visualize]\n",
    "\n",
    "# if tags_menu == 'PSF beads':\n",
    "interact(tag_to_function[tags_menu.value], image=image_names)\n",
    "\n",
    "\n",
    "            # if tags_menu.value == 'PSF beads':\n",
    "            #     interact(display_psfs, image=fixed(image))\n",
    "            # tag_to_function[tags_menu.value](image)"
   ]
  },
  {
   "cell_type": "code",
   "execution_count": null,
   "metadata": {
    "jupyter": {
     "source_hidden": true
    }
   },
   "outputs": [],
   "source": []
  },
  {
   "cell_type": "code",
   "execution_count": null,
   "metadata": {
    "jupyter": {
     "source_hidden": true
    }
   },
   "outputs": [],
   "source": []
  }
 ],
 "metadata": {
  "kernelspec": {
   "display_name": "Python 3",
   "language": "python",
   "name": "python3"
  },
  "language_info": {
   "codemirror_mode": {
    "name": "ipython",
    "version": 3
   },
   "file_extension": ".py",
   "mimetype": "text/x-python",
   "name": "python",
   "nbconvert_exporter": "python",
   "pygments_lexer": "ipython3",
   "version": "3.7.7"
  }
 },
 "nbformat": 4,
 "nbformat_minor": 4
}